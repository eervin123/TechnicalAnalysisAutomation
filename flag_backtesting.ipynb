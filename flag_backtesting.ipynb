{
 "cells": [
  {
   "cell_type": "code",
   "execution_count": null,
   "metadata": {},
   "outputs": [],
   "source": [
    "# Import necessary modules\n",
    "import numpy as np\n",
    "import pandas as pd\n",
    "from flags_pennants import find_flags_pennants_pips, find_flags_pennants_trendline, add_flag_signals\n",
    "import vectorbtpro as vbt\n",
    "vbt.settings.plotting[\"layout\"][\"template\"] = \"vbt_dark\"\n"
   ]
  },
  {
   "cell_type": "code",
   "execution_count": null,
   "metadata": {},
   "outputs": [],
   "source": []
  },
  {
   "cell_type": "code",
   "execution_count": null,
   "metadata": {},
   "outputs": [],
   "source": [
    "\n",
    "# Load your data into a pandas DataFrame\n",
    "df = pd.read_csv('BTCUSDT3600.csv')\n",
    "order = 10\n",
    "# Convert the 'date' column to a datetime object and set it as the index of the DataFrame\n",
    "df['date'] = df['date'].astype('datetime64[s]')\n",
    "df = df.set_index('date')\n",
    "\n",
    "# Apply the natural logarithm to the 'close' column\n",
    "df['log_close'] = np.log(df['close'])\n",
    "\n",
    "# Identify flag patterns using the PIPs method\n",
    "bull_flags, bear_flags, _, _ = find_flags_pennants_pips(df['log_close'], order)\n",
    "\n"
   ]
  },
  {
   "cell_type": "code",
   "execution_count": null,
   "metadata": {},
   "outputs": [],
   "source": [
    "df = add_flag_signals(df, bull_flags, bear_flags)\n",
    "df"
   ]
  },
  {
   "cell_type": "code",
   "execution_count": null,
   "metadata": {},
   "outputs": [],
   "source": [
    "#Set flag_width NaN values to 0\n",
    "df['flag_width'] = df['flag_width'].fillna(0)\n",
    "\n",
    "# Set flag_width to an integer\n",
    "df['flag_width'] = df['flag_width'].astype(int)\n"
   ]
  },
  {
   "cell_type": "code",
   "execution_count": null,
   "metadata": {},
   "outputs": [],
   "source": [
    "df['flag_width'].describe()"
   ]
  },
  {
   "cell_type": "code",
   "execution_count": null,
   "metadata": {},
   "outputs": [],
   "source": [
    "print"
   ]
  },
  {
   "cell_type": "code",
   "execution_count": null,
   "metadata": {},
   "outputs": [],
   "source": [
    "# Print out the number of Bull Flags, Bear Flags, and total Flags\n",
    "print(f'Number of Bull Flags: {df.bull_flag.sum()}')\n",
    "print(f'Number of Bear Flags: {df.bear_flag.sum()}')"
   ]
  },
  {
   "cell_type": "code",
   "execution_count": null,
   "metadata": {},
   "outputs": [],
   "source": []
  },
  {
   "cell_type": "code",
   "execution_count": null,
   "metadata": {},
   "outputs": [],
   "source": [
    "# Simulate a portfolio using the vectorbt Portfolio class\n",
    "\n",
    "pf = vbt.Portfolio.from_signals(\n",
    "    df['close'],\n",
    "    entries=df['bull_flag'],\n",
    "    short_entries=df['bear_flag'],\n",
    "    td_stop = df['flag_width']*.5,\n",
    "    time_delta_format = 'Rows',\n",
    "    leverage = 2,\n",
    ")\n",
    "print(pf.stats())\n",
    "\n",
    "pf.plot(height=600, width=600).show_svg() "
   ]
  },
  {
   "cell_type": "markdown",
   "metadata": {},
   "source": [
    "# Now Run it on Dollar Bars"
   ]
  },
  {
   "cell_type": "code",
   "execution_count": null,
   "metadata": {},
   "outputs": [],
   "source": [
    "\n",
    "# Load your data into a pandas DataFrame\n",
    "df = vbt.BinanceData.load('/Users/ericervin/Documents/Coding/sigma/data/btc_90M_db_vbt.pkl').get() # This can be found in the sigma repo\n",
    "order = 75\n",
    "# Adjust a few column names for convenience\n",
    "df['date'] = df['Open Time']\n",
    "df = df.set_index('date')\n",
    "df['close'] = df['Close']\n",
    "# Apply the natural logarithm to the 'close' column\n",
    "df['log_close'] = np.log(df['close'])\n",
    "\n",
    "# Identify flag patterns using the PIPs method\n",
    "bull_flags, bear_flags, _, _ = find_flags_pennants_pips(df['log_close'], order)\n",
    "\n",
    "df = add_flag_signals(df, bull_flags, bear_flags)\n",
    "#Set flag_width NaN values to 0\n",
    "df['flag_width'] = df['flag_width'].fillna(0)\n",
    "\n",
    "# Set flag_width to an integer\n",
    "df['flag_width'] = df['flag_width'].astype(int)\n",
    "\n",
    "# Simulate a portfolio using the vectorbt Portfolio class\n",
    "\n",
    "pf = vbt.Portfolio.from_signals(\n",
    "    df['close'],\n",
    "    entries=df['bull_flag'],\n",
    "    short_entries=df['bear_flag'],\n",
    "    td_stop = df['flag_width']*1,\n",
    "    time_delta_format = 'Rows',\n",
    "    leverage = 2,\n",
    ")\n",
    "print(pf.stats())\n",
    "\n",
    "pf.plot(height=600, width=600).show_svg() "
   ]
  }
 ],
 "metadata": {
  "kernelspec": {
   "display_name": "neurotrader",
   "language": "python",
   "name": "python3"
  },
  "language_info": {
   "codemirror_mode": {
    "name": "ipython",
    "version": 3
   },
   "file_extension": ".py",
   "mimetype": "text/x-python",
   "name": "python",
   "nbconvert_exporter": "python",
   "pygments_lexer": "ipython3",
   "version": "3.9.16"
  },
  "orig_nbformat": 4
 },
 "nbformat": 4,
 "nbformat_minor": 2
}
